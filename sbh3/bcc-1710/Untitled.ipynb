{
 "cells": [
  {
   "cell_type": "code",
   "execution_count": 1,
   "metadata": {
    "collapsed": true
   },
   "outputs": [],
   "source": [
    "import os, sys, path\n",
    "import numpy as np"
   ]
  },
  {
   "cell_type": "code",
   "execution_count": 53,
   "metadata": {},
   "outputs": [],
   "source": [
    "vals = np.loadtxt(\"dos.in.all\")\n",
    "bv = np.loadtxt(\"bulkmodfit.out\")\n",
    "vol = (bv[:,1])**(1.0/6.0)\n",
    "bm = (bv[:,2])**(1.0/2.0)\n",
    "\n",
    "#calculate c constant\n",
    "w = np.zeros((len(bm)))\n",
    "w_h3cl56 = 1338\n",
    "sb_h3cl56 = 527\n",
    "h_h3cl = 1578\n",
    "c_w_h3cl = w_h3cl56* ( 1.0/(bm[0]*vol[0]) )\n",
    "c_sb_h3cl = sb_h3cl56* ( 1.0/(bm[0]*vol[0]) )\n",
    "\n",
    "table = []\n",
    "i = 0\n",
    "for i in range(len(bm)):\n",
    "    w = c_w_h3cl * bm[i] * vol[i]\n",
    "    s = c_sb_h3cl * bm[i] * vol[i]\n",
    "    \n",
    "    x = np.array((w, h_h3cl, s))\n",
    "    table.append(x)\n",
    "    \n",
    "np.savetxt(\"h3cl_freq\", table, fmt='%.2f')\n",
    "    \n",
    "    "
   ]
  },
  {
   "cell_type": "code",
   "execution_count": 54,
   "metadata": {},
   "outputs": [],
   "source": [
    "w_h3s56 =  1560\n",
    "sb_h3s56 = 615\n",
    "h_h3s = 1840\n",
    "c_w_h3s = w_h3s56* ( 1.0/(bm[0]*vol[0]) )\n",
    "c_sb_h3s = sb_h3s56* ( 1.0/(bm[0]*vol[0]) )\n",
    "\n",
    "table = []\n",
    "i = 0\n",
    "for i in range(len(bm)):\n",
    "    w = c_w_h3s * bm[i] * vol[i]\n",
    "    s = c_sb_h3s * bm[i] * vol[i]\n",
    "    \n",
    "    x = np.array((w, h_h3s, s))\n",
    "    table.append(x)\n",
    "    \n",
    "np.savetxt(\"h3s_freq\", table, fmt='%.2f')"
   ]
  },
  {
   "cell_type": "code",
   "execution_count": 79,
   "metadata": {},
   "outputs": [
    {
     "data": {
      "text/plain": [
       "'bulkmod_vol_file = bulkmodfit'"
      ]
     },
     "execution_count": 79,
     "metadata": {},
     "output_type": "execute_result"
    }
   ],
   "source": [
    "\n",
    "with open(\"infile\") as f:\n",
    "    content = f.readlines()\n",
    "# you may also want to remove whitespace characters like `\\n` at the end of each line\n",
    "content = [x.strip() for x in content] \n",
    "#dos.in values filename\n",
    "dos_in = str(content[0]).replace(' ','').replace('=','').replace('dos.in_file','')\n",
    "\n",
    "#bulkmodfit values filename\n",
    "bm_in = str(content[1]).replace(' ','').replace('=','').replace('bulkmod_vol_file','')\n",
    "\n",
    "#output filename\n",
    "outfile = str(content[2]).replace(' ','').replace('=','').replace('output_file','')\n",
    "#starting freq calculations\n",
    "freq = np.array((str(content[3]).replace(' ','').replace('=','').replace('initial_freq',''))"
   ]
  },
  {
   "cell_type": "code",
   "execution_count": 87,
   "metadata": {},
   "outputs": [
    {
     "data": {
      "text/plain": [
       "['122']"
      ]
     },
     "execution_count": 87,
     "metadata": {},
     "output_type": "execute_result"
    }
   ],
   "source": [
    "freq = ([str(content[3]).replace(' ','').replace('=','').replace('initial_freq','')])\n",
    "freq"
   ]
  },
  {
   "cell_type": "code",
   "execution_count": null,
   "metadata": {
    "collapsed": true
   },
   "outputs": [],
   "source": []
  }
 ],
 "metadata": {
  "kernelspec": {
   "display_name": "Python 3",
   "language": "python",
   "name": "python3"
  },
  "language_info": {
   "codemirror_mode": {
    "name": "ipython",
    "version": 3
   },
   "file_extension": ".py",
   "mimetype": "text/x-python",
   "name": "python",
   "nbconvert_exporter": "python",
   "pygments_lexer": "ipython3",
   "version": "3.6.1"
  }
 },
 "nbformat": 4,
 "nbformat_minor": 2
}
